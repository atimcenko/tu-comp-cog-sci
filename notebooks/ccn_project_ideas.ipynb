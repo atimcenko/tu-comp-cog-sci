{
 "cells": [
  {
   "cell_type": "code",
   "execution_count": null,
   "id": "1ca9073d-fc63-46b4-b09a-eab9832d9251",
   "metadata": {},
   "outputs": [],
   "source": []
  },
  {
   "cell_type": "markdown",
   "id": "db14d2ce-7ee5-42cc-b822-01414523b30a",
   "metadata": {},
   "source": [
    "- Try model mixtures and fit mixture parameter\n",
    "- Numbers perception of humans - rounding the inputs / negative positive / larger smaller\n",
    "- Answer specific questions: who learns faster\n",
    "- Do people just choose the feature that is more important for the task and utilize it? Decision diffusion process? Should predict low performance when feature weights are close\n",
    "- Heuristics: Equal weighting, one-reason DM...\n",
    "- Drigt diffusion models\n",
    "- Neural networks\n",
    "- How learning one task influences learning on the other tasks - performance improvement over 1) trials 2) tasks\n",
    "- Dependence on the task (features of the weights, how they influence learning?)\n",
    "- Easy decision vs difficult\n",
    "- Task leaking effect\n",
    "- Easy features vs difficult\n",
    "- Easy weights vs difficult"
   ]
  }
 ],
 "metadata": {
  "kernelspec": {
   "display_name": "",
   "name": ""
  },
  "language_info": {
   "name": ""
  }
 },
 "nbformat": 4,
 "nbformat_minor": 5
}
